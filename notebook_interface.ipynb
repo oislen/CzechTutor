{
 "cells": [
  {
   "cell_type": "code",
   "execution_count": null,
   "id": "f707ebb8-a23c-42cc-a28a-2a0507815042",
   "metadata": {
    "tags": []
   },
   "outputs": [],
   "source": [
    "# load in main application\n",
    "from main import main"
   ]
  },
  {
   "cell_type": "code",
   "execution_count": null,
   "id": "f8dfe69b-93cf-49f3-9283-0cc81bda5985",
   "metadata": {},
   "outputs": [],
   "source": [
    "# run main application\n",
    "main(n_questions = 10, n_options = 4)"
   ]
  },
  {
   "cell_type": "code",
   "execution_count": null,
   "id": "d77fc4da-7147-4963-9684-385ca8ee8b5f",
   "metadata": {},
   "outputs": [],
   "source": []
  }
 ],
 "metadata": {
  "kernelspec": {
   "display_name": "Python 3 (ipykernel)",
   "language": "python",
   "name": "python3"
  },
  "language_info": {
   "codemirror_mode": {
    "name": "ipython",
    "version": 3
   },
   "file_extension": ".py",
   "mimetype": "text/x-python",
   "name": "python",
   "nbconvert_exporter": "python",
   "pygments_lexer": "ipython3",
   "version": "3.10.9"
  }
 },
 "nbformat": 4,
 "nbformat_minor": 5
}
